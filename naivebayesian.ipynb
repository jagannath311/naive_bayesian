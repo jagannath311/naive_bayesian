{
 "cells": [
  {
   "cell_type": "code",
   "execution_count": 1,
   "metadata": {},
   "outputs": [],
   "source": [
    " import pandas as pd\n",
    "import numpy as np\n",
    "import os\n",
    "import collections\n",
    "files=os.listdir(r'C:\\Users\\hp pc\\Downloads\\review_polarity\\txt_sentoken\\pos')\n",
    "pos_rew={}\n",
    "fil_pos={}\n",
    "neg_rew={}\n",
    "fil_neg={}\n"
   ]
  },
  {
   "cell_type": "code",
   "execution_count": 2,
   "metadata": {},
   "outputs": [],
   "source": [
    "for file in files:\n",
    "    t=open(r'C:\\Users\\hp pc\\Downloads\\review_polarity\\txt_sentoken\\pos' + '\\\\' + file,'r')\n",
    "    for line in t:\n",
    "        for word in line.split():\n",
    "            \n",
    "            \n",
    "            if word.isalpha():\n",
    "                if word not in pos_rew:\n",
    "                    pos_rew[word]=1\n",
    "                else:\n",
    "                    pos_rew[word]+=1"
   ]
  },
  {
   "cell_type": "code",
   "execution_count": 3,
   "metadata": {},
   "outputs": [],
   "source": [
    "for key,value in pos_rew.items():\n",
    "    if value>5:\n",
    "        fil_pos[key]=value"
   ]
  },
  {
   "cell_type": "code",
   "execution_count": 4,
   "metadata": {},
   "outputs": [],
   "source": [
    "files1=os.listdir(r'C:\\Users\\hp pc\\Downloads\\review_polarity1\\review_polarity\\txt_sentoken\\neg')\n",
    "for file in files1:\n",
    "    t=open(r'C:\\Users\\hp pc\\Downloads\\review_polarity1\\review_polarity\\txt_sentoken\\neg' + '\\\\' + file,'r')\n",
    "    for line in t:\n",
    "        for word in line.split():\n",
    "            \n",
    "            if word.isalpha(): \n",
    "                if word not in neg_rew:\n",
    "                    neg_rew[word]=1\n",
    "                else:\n",
    "                    neg_rew[word]+=1"
   ]
  },
  {
   "cell_type": "code",
   "execution_count": 5,
   "metadata": {},
   "outputs": [],
   "source": [
    "for key,value in neg_rew.items():\n",
    "    if value>5:\n",
    "        fil_neg[key]=value"
   ]
  },
  {
   "cell_type": "code",
   "execution_count": 6,
   "metadata": {},
   "outputs": [],
   "source": [
    "rows, cols = (800,9000) \n",
    "pr_pos= [[0.0001 for i in range(cols)] for j in range(rows)] \n",
    "a_pos=sorted(fil_pos.keys(), key=lambda x:x.lower())"
   ]
  },
  {
   "cell_type": "code",
   "execution_count": 7,
   "metadata": {},
   "outputs": [],
   "source": [
    "k=0\n",
    "j=0\n",
    "def dcheck(word,j):\n",
    "    for i in range(len(a_pos)):\n",
    "        if a_pos[i]==word:\n",
    "            if pr_pos[j][i]==0.0001:\n",
    "                pr_pos[j][i]=1\n",
    "                break\n",
    "                \n",
    "            else:\n",
    "                pr_pos[j][i]=pr_pos[j][i]+1\n",
    "            break\n",
    "    \n",
    "for file in files:\n",
    "    if(k<800):\n",
    "        t=open(r'C:\\Users\\hp pc\\Downloads\\review_polarity\\txt_sentoken\\pos' + '\\\\' + file,'r')\n",
    "        for line in t:\n",
    "            for word in line.split():\n",
    "                dcheck(word,j)\n",
    "                \n",
    "    j=j+1\n",
    "    k=k+1"
   ]
  },
  {
   "cell_type": "code",
   "execution_count": 8,
   "metadata": {},
   "outputs": [],
   "source": [
    "for j in range(800):\n",
    "    count=0\n",
    "    for i in range(len(a_pos)):\n",
    "        if pr_pos[j][i]!=0.0001:\n",
    "            count+=1\n",
    "    pr_pos[j][i]=count\n",
    "for j in range(800):\n",
    "    for i in range(len(a_pos)):\n",
    "        pr_pos[j][i]=pr_pos[j][i]/pr_pos[j][8464]"
   ]
  },
  {
   "cell_type": "code",
   "execution_count": 9,
   "metadata": {},
   "outputs": [],
   "source": [
    "rows, cols = (800,9000) \n",
    "pr_neg= [[0.0001 for i in range(cols)] for j in range(rows)] \n",
    "a_neg=sorted(fil_neg.keys(), key=lambda x:x.lower())"
   ]
  },
  {
   "cell_type": "code",
   "execution_count": 10,
   "metadata": {},
   "outputs": [],
   "source": [
    "k=0\n",
    "j=0\n",
    "def fcheck(word,j):\n",
    "    for i in range(len(a_neg)):\n",
    "        if a_neg[i]==word:\n",
    "            if pr_neg[j][i]==0.0001:\n",
    "                pr_neg[j][i]=1\n",
    "                break\n",
    "                \n",
    "            else:\n",
    "                pr_neg[j][i]=pr_neg[j][i]+1\n",
    "            break\n",
    "    \n",
    "for file in files1:\n",
    "    if(k<800):\n",
    "        t=open(r'C:\\Users\\hp pc\\Downloads\\review_polarity1\\review_polarity\\txt_sentoken\\neg' + '\\\\' + file,'r')\n",
    "        for line in t:\n",
    "            for word in line.split():\n",
    "                fcheck(word,j)\n",
    "                \n",
    "    j=j+1\n",
    "    k=k+1"
   ]
  },
  {
   "cell_type": "code",
   "execution_count": 11,
   "metadata": {},
   "outputs": [],
   "source": [
    "for j in range(800):\n",
    "    count=0\n",
    "    for i in range(len(a_neg)):\n",
    "        if pr_neg[j][i]!=0.0001:\n",
    "            count+=1\n",
    "    pr_neg[j][i]=count\n",
    "for j in range(800):\n",
    "    for i in range(len(a_neg)):\n",
    "        pr_neg[j][i]=pr_neg[j][i]/pr_neg[j][8464]"
   ]
  },
  {
   "cell_type": "code",
   "execution_count": 12,
   "metadata": {},
   "outputs": [],
   "source": [
    "score_pos_pos=[0 for i in range(200)]\n",
    "score_pos_neg=[0 for i in range(200)]\n",
    "score_neg_pos=[0 for i in range(200)]\n",
    "score_neg_neg=[0 for i in range(200)]"
   ]
  },
  {
   "cell_type": "code",
   "execution_count": 13,
   "metadata": {},
   "outputs": [],
   "source": [
    "list_pos=np.max(pr_pos,0)\n",
    "list_neg=np.max(pr_neg,0)"
   ]
  },
  {
   "cell_type": "code",
   "execution_count": 14,
   "metadata": {},
   "outputs": [],
   "source": [
    "rows, cols = (200,9000) \n",
    "test_pr_pos= [[0.0001 for i in range(cols)] for j in range(rows)] "
   ]
  },
  {
   "cell_type": "code",
   "execution_count": 15,
   "metadata": {},
   "outputs": [],
   "source": [
    "k=0\n",
    "j=0 \n",
    "\n",
    "files2=os.listdir(r'C:\\Users\\hp pc\\Desktop\\positive') \n",
    "def echeck(word,j):\n",
    "    for i in range(len(a_pos)):\n",
    "        if a_pos[i]==word:\n",
    "            if test_pr_pos[j][i]==0.0001:\n",
    "                test_pr_pos[j][i]=1\n",
    "                break\n",
    "                \n",
    "            else:\n",
    "                test_pr_pos[j][i]=test_pr_pos[j][i]+1\n",
    "            break\n",
    "\n",
    "        \n",
    "for file in files2:\n",
    "    \n",
    "    t=open(r'C:\\Users\\hp pc\\Desktop\\positive' + '\\\\' + file,'r')\n",
    "    for line in t:\n",
    "        for word in line.split():\n",
    "            echeck(word,j)\n",
    "                \n",
    "    j=j+1\n",
    "    "
   ]
  },
  {
   "cell_type": "code",
   "execution_count": 16,
   "metadata": {},
   "outputs": [],
   "source": [
    "for j in range(200):\n",
    "    count=0\n",
    "    for i in range(len(a_pos)):\n",
    "        if test_pr_pos[j][i]!=0.0001:\n",
    "            count+=1\n",
    "    test_pr_pos[j][i]=count"
   ]
  },
  {
   "cell_type": "code",
   "execution_count": 17,
   "metadata": {},
   "outputs": [],
   "source": [
    "j=0\n",
    "def check(word,j):\n",
    "    for i in range(len(a_pos)):\n",
    "        if word==a_pos[i]:\n",
    "            \n",
    "            score_pos_pos[j]=score_pos_pos[j]+list_pos[i]*(test_pr_pos[j][i]/test_pr_pos[j][8464])\n",
    "            \n",
    "                \n",
    "for file in files2:\n",
    "    \n",
    "    t=open(r'C:\\Users\\hp pc\\Desktop\\positive' + '\\\\' + file,'r')\n",
    "    for line in t:\n",
    "        for word in line.split():\n",
    "            \n",
    "            check(word,j)\n",
    "                \n",
    "    j=j+1\n",
    "    "
   ]
  },
  {
   "cell_type": "code",
   "execution_count": 18,
   "metadata": {},
   "outputs": [],
   "source": [
    "j=0\n",
    "def acheck(word,j):\n",
    "    for i in range(len(a_neg)):\n",
    "        if word==a_neg[i]:\n",
    "            \n",
    "            score_pos_neg[j]=score_pos_neg[j]+list_neg[i]*(test_pr_pos[j][i]/test_pr_pos[j][8464])\n",
    "            \n",
    "                \n",
    "for file in files2:\n",
    "    \n",
    "    t=open(r'C:\\Users\\hp pc\\Desktop\\positive' + '\\\\' + file,'r')\n",
    "    for line in t:\n",
    "        for word in line.split():\n",
    "            \n",
    "            acheck(word,j)\n",
    "                \n",
    "    j=j+1\n",
    "    "
   ]
  },
  {
   "cell_type": "code",
   "execution_count": 19,
   "metadata": {},
   "outputs": [],
   "source": [
    "score_pos_pos_max=np.max(score_pos_pos)\n",
    "score_pos_neg_max=np.max(score_pos_neg)\n",
    "score_pos_pos_min=np.min(score_pos_pos)\n",
    "score_pos_neg_min=np.min(score_pos_neg)\n",
    "score_pos_pos=[score_pos_pos[i]*0.5 for i in range(len(score_pos_pos))]\n",
    "score_pos_neg=[score_pos_neg[i]*0.5 for i in range(len(score_pos_neg))]\n",
    "for i in range(200):\n",
    "    score_pos_pos[i]=(score_pos_pos[i]-score_pos_pos_min)/(score_pos_pos_max-score_pos_pos_min)\n",
    "    score_pos_neg[i]=(score_pos_neg[i]-score_pos_neg_min)/(score_pos_neg_max-score_pos_neg_min)"
   ]
  },
  {
   "cell_type": "code",
   "execution_count": 20,
   "metadata": {},
   "outputs": [],
   "source": [
    "predicted1=[]\n",
    "for i in range(200):\n",
    "    if(score_pos_pos[i]>score_pos_neg[i]):\n",
    "        predicted1.append(1)\n",
    "    \n",
    "    else:\n",
    "        predicted1.append(0)\n",
    "    "
   ]
  },
  {
   "cell_type": "code",
   "execution_count": 21,
   "metadata": {},
   "outputs": [
    {
     "name": "stdout",
     "output_type": "stream",
     "text": [
      "96\n"
     ]
    }
   ],
   "source": [
    "counta=0\n",
    "for i in range(len(predicted1)):\n",
    "    if predicted1[i]==1:\n",
    "        counta=counta+1\n",
    "print(counta)"
   ]
  },
  {
   "cell_type": "code",
   "execution_count": 22,
   "metadata": {},
   "outputs": [],
   "source": [
    "rows, cols = (200,9000) \n",
    "test_pr_neg= [[0.0001 for i in range(cols)] for j in range(rows)] "
   ]
  },
  {
   "cell_type": "code",
   "execution_count": 23,
   "metadata": {},
   "outputs": [],
   "source": [
    "k=0\n",
    "j=0 \n",
    "\n",
    "files2=os.listdir(r'C:\\Users\\hp pc\\Desktop\\negative') \n",
    "def vcheck(word,j):\n",
    "    for i in range(len(a_neg)):\n",
    "        if a_neg[i]==word:\n",
    "            if test_pr_neg[j][i]==0.0001:\n",
    "                test_pr_neg[j][i]=1\n",
    "                break\n",
    "                \n",
    "            else:\n",
    "                test_pr_neg[j][i]=test_pr_neg[j][i]+1\n",
    "            break\n",
    "\n",
    "        \n",
    "for file in files2:\n",
    "    \n",
    "    t=open(r'C:\\Users\\hp pc\\Desktop\\negative' + '\\\\' + file,'r')\n",
    "    for line in t:\n",
    "        for word in line.split():\n",
    "            vcheck(word,j)\n",
    "                \n",
    "    j=j+1\n",
    "    "
   ]
  },
  {
   "cell_type": "code",
   "execution_count": 24,
   "metadata": {},
   "outputs": [],
   "source": [
    "for j in range(200):\n",
    "    count=0\n",
    "    for i in range(len(a_neg)):\n",
    "        if test_pr_neg[j][i]!=0.0001:\n",
    "            count+=1\n",
    "    test_pr_neg[j][i]=count"
   ]
  },
  {
   "cell_type": "code",
   "execution_count": 26,
   "metadata": {},
   "outputs": [],
   "source": [
    "j=0\n",
    "\n",
    "score_neg_neg=[0 for i in range(200)]\n",
    "def check(word,j):\n",
    "    for i in range(len(a_pos)):\n",
    "        if word==a_pos[i]:\n",
    "            \n",
    "            score_neg_pos[j]=score_neg_pos[j]+list_pos[i]*(test_pr_neg[j][i])\n",
    "            \n",
    "                \n",
    "for file in files2:\n",
    "    \n",
    "    t=open(r'C:\\Users\\hp pc\\Desktop\\negative' + '\\\\' + file,'r')\n",
    "    for line in t:\n",
    "        for word in line.split():\n",
    "            \n",
    "            check(word,j)\n",
    "                \n",
    "    j=j+1\n",
    "    "
   ]
  },
  {
   "cell_type": "code",
   "execution_count": 27,
   "metadata": {},
   "outputs": [],
   "source": [
    "j=0\n",
    "def acheck(word,j):\n",
    "    for i in range(len(a_neg)):\n",
    "        if word==a_neg[i]:\n",
    "            \n",
    "            score_neg_neg[j]=score_neg_neg[j]+list_neg[i]*(test_pr_neg[j][i])\n",
    "            \n",
    "                \n",
    "for file in files2:\n",
    "    \n",
    "    t=open(r'C:\\Users\\hp pc\\Desktop\\negative' + '\\\\' + file,'r')\n",
    "    for line in t:\n",
    "        for word in line.split():\n",
    "            \n",
    "            acheck(word,j)\n",
    "                \n",
    "    j=j+1\n",
    "    "
   ]
  },
  {
   "cell_type": "code",
   "execution_count": 28,
   "metadata": {},
   "outputs": [],
   "source": [
    "score_neg_pos_max=np.max(score_neg_pos)\n",
    "score_neg_neg_max=np.max(score_neg_neg)\n",
    "score_neg_pos_min=np.min(score_neg_pos)\n",
    "score_neg_neg_min=np.min(score_neg_neg)\n",
    "score_neg_pos=[score_neg_pos[i]*0.5 for i in range(len(score_neg_pos))]\n",
    "score_neg_neg=[score_neg_neg[i]*0.5 for i in range(len(score_neg_neg))]\n",
    "for i in range(200):\n",
    "    score_pos_pos[i]=(score_pos_pos[i]-score_pos_pos_min)/(score_pos_pos_max-score_pos_pos_min)\n",
    "    score_pos_neg[i]=(score_pos_neg[i]-score_pos_neg_min)/(score_pos_neg_max-score_pos_neg_min)"
   ]
  },
  {
   "cell_type": "code",
   "execution_count": 29,
   "metadata": {},
   "outputs": [
    {
     "name": "stdout",
     "output_type": "stream",
     "text": [
      "200\n"
     ]
    }
   ],
   "source": [
    "predicted=[]\n",
    "for i in range(200):\n",
    "    if(score_neg_pos[i]>score_neg_neg[i]):\n",
    "        predicted.append(1)\n",
    "    \n",
    "    else:\n",
    "        predicted.append(0)\n",
    "        countb=0\n",
    "for i in range(len(predicted)):\n",
    "    if predicted[i]!=1:\n",
    "        countb=countb+1\n",
    "print(countb)    "
   ]
  },
  {
   "cell_type": "code",
   "execution_count": 30,
   "metadata": {},
   "outputs": [
    {
     "name": "stdout",
     "output_type": "stream",
     "text": [
      "0.74\n"
     ]
    }
   ],
   "source": [
    "accu_score=(counta+countb)/400\n",
    "print(accu_score)"
   ]
  },
  {
   "cell_type": "code",
   "execution_count": null,
   "metadata": {},
   "outputs": [],
   "source": []
  },
  {
   "cell_type": "code",
   "execution_count": 31,
   "metadata": {},
   "outputs": [],
   "source": [
    "from sklearn.metrics import roc_auc_score"
   ]
  },
  {
   "cell_type": "code",
   "execution_count": 32,
   "metadata": {},
   "outputs": [],
   "source": [
    "true=[1 for i in range(200)]\n",
    "\n",
    "for i in range(200):\n",
    "    true.append(0)"
   ]
  },
  {
   "cell_type": "code",
   "execution_count": 35,
   "metadata": {},
   "outputs": [
    {
     "data": {
      "text/plain": [
       "400"
      ]
     },
     "execution_count": 35,
     "metadata": {},
     "output_type": "execute_result"
    }
   ],
   "source": [
    "len(true)\n",
    "\n"
   ]
  },
  {
   "cell_type": "code",
   "execution_count": 50,
   "metadata": {},
   "outputs": [
    {
     "data": {
      "text/plain": [
       "200"
      ]
     },
     "execution_count": 50,
     "metadata": {},
     "output_type": "execute_result"
    }
   ],
   "source": [
    "len(predicted1)"
   ]
  },
  {
   "cell_type": "code",
   "execution_count": 60,
   "metadata": {},
   "outputs": [],
   "source": [
    "predict=[0 for i in range(400)]\n",
    "for i in range(200):\n",
    "    predict[i]=predicted1[i]\n",
    "\n",
    "for j in range(200):\n",
    "    predict[i]=predicted[i-199]\n",
    "    i=i+1"
   ]
  },
  {
   "cell_type": "code",
   "execution_count": 49,
   "metadata": {},
   "outputs": [
    {
     "data": {
      "text/plain": [
       "3"
      ]
     },
     "execution_count": 49,
     "metadata": {},
     "output_type": "execute_result"
    }
   ],
   "source": [
    "predict.append(predicted)\n",
    "len(predict)"
   ]
  },
  {
   "cell_type": "code",
   "execution_count": 61,
   "metadata": {},
   "outputs": [
    {
     "data": {
      "text/plain": [
       "0.74"
      ]
     },
     "execution_count": 61,
     "metadata": {},
     "output_type": "execute_result"
    }
   ],
   "source": [
    "roc_auc_score(true,predict)"
   ]
  },
  {
   "cell_type": "code",
   "execution_count": null,
   "metadata": {},
   "outputs": [],
   "source": []
  }
 ],
 "metadata": {
  "kernelspec": {
   "display_name": "Python 3",
   "language": "python",
   "name": "python3"
  },
  "language_info": {
   "codemirror_mode": {
    "name": "ipython",
    "version": 3
   },
   "file_extension": ".py",
   "mimetype": "text/x-python",
   "name": "python",
   "nbconvert_exporter": "python",
   "pygments_lexer": "ipython3",
   "version": "3.7.3"
  }
 },
 "nbformat": 4,
 "nbformat_minor": 2
}
